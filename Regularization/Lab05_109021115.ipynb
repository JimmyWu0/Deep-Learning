{
 "cells": [
  {
   "cell_type": "markdown",
   "metadata": {},
   "source": [
    "# Deep Learning - Lab05"
   ]
  },
  {
   "cell_type": "code",
   "execution_count": 22,
   "metadata": {},
   "outputs": [],
   "source": [
    "import pandas as pd\n",
    "import numpy as np"
   ]
  },
  {
   "cell_type": "code",
   "execution_count": 23,
   "metadata": {},
   "outputs": [],
   "source": [
    "# download the dataset\n",
    "import urllib.request\n",
    "\n",
    "urllib.request.urlretrieve(\"https://nthu-datalab.github.io/ml/labs/05_Regularization/data/X_train.csv\", \"./data/X_train.csv\")\n",
    "urllib.request.urlretrieve(\"https://nthu-datalab.github.io/ml/labs/05_Regularization/data/y_train.csv\", \"./data/y_train.csv\")\n",
    "urllib.request.urlretrieve(\"https://nthu-datalab.github.io/ml/labs/05_Regularization/data/X_test.csv\", \"./data/X_test.csv\")\n",
    "\n",
    "X_train = pd.read_csv('./data/X_train.csv')\n",
    "y_train = pd.read_csv('./data/y_train.csv')\n",
    "X_test = pd.read_csv('./data/X_test.csv')"
   ]
  },
  {
   "cell_type": "code",
   "execution_count": 24,
   "metadata": {},
   "outputs": [
    {
     "name": "stdout",
     "output_type": "stream",
     "text": [
      "(85751, 8)\n",
      "Index(['PERIOD', 'GAME_CLOCK', 'SHOT_CLOCK', 'DRIBBLES', 'TOUCH_TIME',\n",
      "       'SHOT_DIST', 'PTS_TYPE', 'CLOSE_DEF_DIST'],\n",
      "      dtype='object')\n",
      "Index(['FGM'], dtype='object')\n"
     ]
    }
   ],
   "source": [
    "print(X_train.shape)\n",
    "print(X_train.columns)\n",
    "print(y_train.columns)"
   ]
  },
  {
   "cell_type": "code",
   "execution_count": 25,
   "metadata": {},
   "outputs": [
    {
     "data": {
      "text/html": [
       "<div>\n",
       "<style scoped>\n",
       "    .dataframe tbody tr th:only-of-type {\n",
       "        vertical-align: middle;\n",
       "    }\n",
       "\n",
       "    .dataframe tbody tr th {\n",
       "        vertical-align: top;\n",
       "    }\n",
       "\n",
       "    .dataframe thead th {\n",
       "        text-align: right;\n",
       "    }\n",
       "</style>\n",
       "<table border=\"1\" class=\"dataframe\">\n",
       "  <thead>\n",
       "    <tr style=\"text-align: right;\">\n",
       "      <th></th>\n",
       "      <th>PERIOD</th>\n",
       "      <th>GAME_CLOCK</th>\n",
       "      <th>SHOT_CLOCK</th>\n",
       "      <th>DRIBBLES</th>\n",
       "      <th>TOUCH_TIME</th>\n",
       "      <th>SHOT_DIST</th>\n",
       "      <th>PTS_TYPE</th>\n",
       "      <th>CLOSE_DEF_DIST</th>\n",
       "    </tr>\n",
       "  </thead>\n",
       "  <tbody>\n",
       "    <tr>\n",
       "      <th>0</th>\n",
       "      <td>1</td>\n",
       "      <td>358</td>\n",
       "      <td>2.4</td>\n",
       "      <td>0</td>\n",
       "      <td>3.2</td>\n",
       "      <td>20.6</td>\n",
       "      <td>2</td>\n",
       "      <td>4.5</td>\n",
       "    </tr>\n",
       "    <tr>\n",
       "      <th>1</th>\n",
       "      <td>1</td>\n",
       "      <td>585</td>\n",
       "      <td>8.3</td>\n",
       "      <td>0</td>\n",
       "      <td>1.2</td>\n",
       "      <td>3.0</td>\n",
       "      <td>2</td>\n",
       "      <td>0.5</td>\n",
       "    </tr>\n",
       "    <tr>\n",
       "      <th>2</th>\n",
       "      <td>1</td>\n",
       "      <td>540</td>\n",
       "      <td>19.9</td>\n",
       "      <td>0</td>\n",
       "      <td>0.6</td>\n",
       "      <td>3.5</td>\n",
       "      <td>2</td>\n",
       "      <td>3.2</td>\n",
       "    </tr>\n",
       "    <tr>\n",
       "      <th>3</th>\n",
       "      <td>1</td>\n",
       "      <td>392</td>\n",
       "      <td>9.0</td>\n",
       "      <td>0</td>\n",
       "      <td>0.9</td>\n",
       "      <td>21.1</td>\n",
       "      <td>2</td>\n",
       "      <td>4.9</td>\n",
       "    </tr>\n",
       "    <tr>\n",
       "      <th>4</th>\n",
       "      <td>3</td>\n",
       "      <td>401</td>\n",
       "      <td>22.7</td>\n",
       "      <td>0</td>\n",
       "      <td>0.7</td>\n",
       "      <td>4.1</td>\n",
       "      <td>2</td>\n",
       "      <td>2.9</td>\n",
       "    </tr>\n",
       "  </tbody>\n",
       "</table>\n",
       "</div>"
      ],
      "text/plain": [
       "   PERIOD  GAME_CLOCK  SHOT_CLOCK  DRIBBLES  TOUCH_TIME  SHOT_DIST  PTS_TYPE  \\\n",
       "0       1         358         2.4         0         3.2       20.6         2   \n",
       "1       1         585         8.3         0         1.2        3.0         2   \n",
       "2       1         540        19.9         0         0.6        3.5         2   \n",
       "3       1         392         9.0         0         0.9       21.1         2   \n",
       "4       3         401        22.7         0         0.7        4.1         2   \n",
       "\n",
       "   CLOSE_DEF_DIST  \n",
       "0             4.5  \n",
       "1             0.5  \n",
       "2             3.2  \n",
       "3             4.9  \n",
       "4             2.9  "
      ]
     },
     "execution_count": 25,
     "metadata": {},
     "output_type": "execute_result"
    }
   ],
   "source": [
    "X_train.head()"
   ]
  },
  {
   "cell_type": "code",
   "execution_count": 26,
   "metadata": {},
   "outputs": [],
   "source": [
    "from sklearn.model_selection import train_test_split\n",
    "from sklearn.preprocessing import PolynomialFeatures\n",
    "from sklearn.preprocessing import StandardScaler\n",
    "from sklearn.linear_model import LogisticRegression, Lasso, RANSACRegressor\n",
    "from sklearn.metrics import mean_squared_error, accuracy_score\n",
    "\n",
    "sc_x = StandardScaler()\n",
    "X_std = sc_x.fit_transform(X_train)\n",
    "y = y_train"
   ]
  },
  {
   "cell_type": "markdown",
   "metadata": {},
   "source": [
    "#### I decided to use **Lasso** model to predict FGM value. The output of the following block will show: **Under X_poly's degree=1/2/3/4/5 and Lasso's alpha=0/0.001/0.01/0.1/1/10/100 condition, the MSE of train/test set.**"
   ]
  },
  {
   "cell_type": "code",
   "execution_count": 27,
   "metadata": {},
   "outputs": [
    {
     "name": "stderr",
     "output_type": "stream",
     "text": [
      "c:\\Users\\User\\anaconda3\\envs\\dataset2\\Lib\\site-packages\\sklearn\\base.py:1473: UserWarning: With alpha=0, this algorithm does not converge well. You are advised to use the LinearRegression estimator\n",
      "  return fit_method(estimator, *args, **kwargs)\n",
      "c:\\Users\\User\\anaconda3\\envs\\dataset2\\Lib\\site-packages\\sklearn\\linear_model\\_coordinate_descent.py:697: UserWarning: Coordinate descent with no regularization may lead to unexpected results and is discouraged.\n",
      "  model = cd_fast.enet_coordinate_descent(\n",
      "c:\\Users\\User\\anaconda3\\envs\\dataset2\\Lib\\site-packages\\sklearn\\linear_model\\_coordinate_descent.py:697: ConvergenceWarning: Objective did not converge. You might want to increase the number of iterations, check the scale of the features or consider increasing regularisation. Duality gap: 6.866e+03, tolerance: 1.487e+00 Linear regression models with null weight for the l1 regularization term are more efficiently fitted using one of the solvers implemented in sklearn.linear_model.Ridge/RidgeCV instead.\n",
      "  model = cd_fast.enet_coordinate_descent(\n"
     ]
    },
    {
     "name": "stdout",
     "output_type": "stream",
     "text": [
      "\n",
      "[degree = 4]\n",
      "\n",
      "[alpha = 0.000000]\n",
      "MSE train: 0.2288, test: 0.2359\n"
     ]
    },
    {
     "name": "stderr",
     "output_type": "stream",
     "text": [
      "c:\\Users\\User\\anaconda3\\envs\\dataset2\\Lib\\site-packages\\sklearn\\linear_model\\_coordinate_descent.py:697: ConvergenceWarning: Objective did not converge. You might want to increase the number of iterations, check the scale of the features or consider increasing regularisation. Duality gap: 6.133e+03, tolerance: 1.487e+00\n",
      "  model = cd_fast.enet_coordinate_descent(\n"
     ]
    },
    {
     "name": "stdout",
     "output_type": "stream",
     "text": [
      "\n",
      "[degree = 4]\n",
      "\n",
      "[alpha = 0.001000]\n",
      "MSE train: 0.2299, test: 0.2326\n"
     ]
    },
    {
     "name": "stderr",
     "output_type": "stream",
     "text": [
      "c:\\Users\\User\\anaconda3\\envs\\dataset2\\Lib\\site-packages\\sklearn\\linear_model\\_coordinate_descent.py:697: ConvergenceWarning: Objective did not converge. You might want to increase the number of iterations, check the scale of the features or consider increasing regularisation. Duality gap: 5.961e+03, tolerance: 1.487e+00\n",
      "  model = cd_fast.enet_coordinate_descent(\n"
     ]
    },
    {
     "name": "stdout",
     "output_type": "stream",
     "text": [
      "\n",
      "[degree = 4]\n",
      "\n",
      "[alpha = 0.010000]\n",
      "MSE train: 0.2329, test: 0.2345\n",
      "\n",
      "[degree = 4]\n",
      "\n",
      "[alpha = 0.100000]\n",
      "MSE train: 0.2430, test: 0.2434\n",
      "\n",
      "[degree = 4]\n",
      "\n",
      "[alpha = 1.000000]\n",
      "MSE train: 0.2476, test: 0.2482\n",
      "\n",
      "[degree = 4]\n",
      "\n",
      "[alpha = 10.000000]\n",
      "MSE train: 0.2477, test: 0.2483\n",
      "\n",
      "[degree = 4]\n",
      "\n",
      "[alpha = 100.000000]\n",
      "MSE train: 0.2477, test: 0.2483\n"
     ]
    }
   ],
   "source": [
    "for d in [4]:\n",
    "    poly = PolynomialFeatures(degree = d)\n",
    "    X_poly = poly.fit_transform(X_std)\n",
    "    X_train, X_test, y_train, y_test = train_test_split(\n",
    "        X_poly, y, test_size=0.3, random_state=0)\n",
    "\n",
    "    # for c in [0.001, 0.01, 0.1, 1, 10, 100]:\n",
    "    for a in [0, 0.001, 0.01, 0.1, 1, 10, 100]:\n",
    "        # log_rg = LogisticRegression(C = c, penalty = 'elasticnet', l1_ratio = 1, solver = 'saga', max_iter=1000)\n",
    "        log_rg = Lasso(alpha = a)\n",
    "        # log_rg = RANSACRegressor(LogisticRegression(C = c, penalty = 'elasticnet', l1_ratio = 1.0, solver = 'saga', max_iter=1000), \n",
    "        #     max_trials=1000, \n",
    "        #     min_samples=50, \n",
    "        #     residual_threshold=20.0, \n",
    "        #     random_state=0)\n",
    "        log_rg.fit(X_train, y_train)\n",
    "\n",
    "        y_train_pred = log_rg.predict(X_train)\n",
    "        y_test_pred = log_rg.predict(X_test)\n",
    "\n",
    "        print('\\n[degree = %d]' % d)\n",
    "        print('\\n[alpha = %f]' % a )\n",
    "        print('MSE train: %.4f, test: %.4f' % (\n",
    "                        mean_squared_error(y_train, y_train_pred),\n",
    "                        mean_squared_error(y_test, y_test_pred))) \n",
    "        # print('Accuracy train: %.4f, test: %.4f' % (\n",
    "        #                 accuracy_score(y_train, y_train_pred),\n",
    "        #                 accuracy_score(y_test, y_test_pred))) "
   ]
  },
  {
   "cell_type": "markdown",
   "metadata": {},
   "source": [
    "#### I found that when **X_poly's degree=3 and Lasso's alpha=0.001**, **MSE of train=0.2306, test=0.2323**, whose MSE of test is the lowest. In other words, performance of generalizability is better."
   ]
  },
  {
   "cell_type": "markdown",
   "metadata": {},
   "source": [
    "#### So I decided that for the rest part of assignment, I would fix the model and its hyperparameter as **Lasso** and one of its hyperparameter **alpha=0.001**. "
   ]
  },
  {
   "cell_type": "code",
   "execution_count": 29,
   "metadata": {},
   "outputs": [],
   "source": [
    "%matplotlib inline\n",
    "import matplotlib.pyplot as plt"
   ]
  },
  {
   "cell_type": "markdown",
   "metadata": {},
   "source": [
    "#### Run the following code will generate the **error curve**."
   ]
  },
  {
   "cell_type": "code",
   "execution_count": 30,
   "metadata": {},
   "outputs": [
    {
     "name": "stderr",
     "output_type": "stream",
     "text": [
      "c:\\Users\\User\\anaconda3\\envs\\dataset2\\Lib\\site-packages\\sklearn\\linear_model\\_coordinate_descent.py:697: ConvergenceWarning: Objective did not converge. You might want to increase the number of iterations, check the scale of the features or consider increasing regularisation. Duality gap: 6.133e+03, tolerance: 1.487e+00\n",
      "  model = cd_fast.enet_coordinate_descent(\n",
      "c:\\Users\\User\\anaconda3\\envs\\dataset2\\Lib\\site-packages\\sklearn\\linear_model\\_coordinate_descent.py:697: ConvergenceWarning: Objective did not converge. You might want to increase the number of iterations, check the scale of the features or consider increasing regularisation. Duality gap: 6.909e+03, tolerance: 1.487e+00\n",
      "  model = cd_fast.enet_coordinate_descent(\n"
     ]
    },
    {
     "data": {
      "image/png": "[encoded data removed]",
      "text/plain": [
       "<Figure size 640x480 with 1 Axes>"
      ]
     },
     "metadata": {},
     "output_type": "display_data"
    }
   ],
   "source": [
    "mse_train = []\n",
    "mse_test = []\n",
    "\n",
    "max_degree = 6\n",
    "\n",
    "for d in range(1, max_degree):\n",
    "    poly = PolynomialFeatures(degree=d)\n",
    "    X_poly = poly.fit_transform(X_std)\n",
    "    X_train, X_test, y_train, y_test = train_test_split(\n",
    "        X_poly, y, test_size=0.3, random_state=0)\n",
    "    # X_train_poly = poly.fit_transform(x_train[:,newaxis]) == X_train\n",
    "    # X_test_poly = poly.transform(x_test[:,newaxis]) == X_test\n",
    "    \n",
    "    # regr = LinearRegression()\n",
    "    # regr = regr.fit(X_train_poly, y_train)\n",
    "    # y_train_pred = regr.predict(X_train_poly)\n",
    "    # y_test_pred = regr.predict(X_test_poly)\n",
    "\n",
    "    log_rg = Lasso(alpha = 0.001)\n",
    "    log_rg.fit(X_train, y_train)\n",
    "\n",
    "    y_train_pred = log_rg.predict(X_train)\n",
    "    y_test_pred = log_rg.predict(X_test)\n",
    "    \n",
    "    mse_train.append(mean_squared_error(y_train, y_train_pred))\n",
    "    mse_test.append(mean_squared_error(y_test, y_test_pred))\n",
    "    \n",
    "\n",
    "plt.plot(range(1, max_degree), mse_train, label = 'Training error', color = 'blue', linewidth = 2)\n",
    "plt.plot(range(1, max_degree), mse_test, label = 'Testing error', color = 'red', linewidth = 2)\n",
    "plt.legend(loc='upper right')\n",
    "plt.xlabel('Model complexity (polynomial degree)')\n",
    "plt.ylabel('$MSE$')\n",
    "plt.tight_layout()\n",
    "plt.savefig('./output/fig-error-curve.png', dpi=300)\n",
    "plt.show()"
   ]
  },
  {
   "cell_type": "markdown",
   "metadata": {},
   "source": [
    "#### According to the graph, we can see that the **testing error is the lowest at degree=3**, and after that, the testing error is increasing despite the training error is keep decreasing. So it's clear that **degree=3 is the best choice and NOT overfit**."
   ]
  },
  {
   "cell_type": "markdown",
   "metadata": {},
   "source": [
    "#### Then I apply **higher alpha value (alpha=0.1)** on Lasso to set higher penalty on L1 norm, thus make the weights among all features to be more sparse.\n",
    "#### I filtered out the less related features (whose coefficient is less than 1e-4) and left top-3 significant features, which are **['SHOT_CLOCK' 'SHOT_DIST' 'CLOSE_DEF_DIST']**."
   ]
  },
  {
   "cell_type": "code",
   "execution_count": 70,
   "metadata": {},
   "outputs": [
    {
     "data": {
      "image/png": "[encoded data removed]",
      "text/plain": [
       "<Figure size 640x480 with 1 Axes>"
      ]
     },
     "metadata": {},
     "output_type": "display_data"
    },
    {
     "name": "stdout",
     "output_type": "stream",
     "text": [
      "Selected attributes: ['SHOT_CLOCK' 'SHOT_DIST' 'CLOSE_DEF_DIST']\n"
     ]
    }
   ],
   "source": [
    "X_train = pd.read_csv('./data/X_train.csv')\n",
    "X_test = pd.read_csv('./data/X_test.csv')\n",
    "y_train = pd.read_csv('./data/y_train.csv')\n",
    "\n",
    "var_num = X_train.shape[1]\n",
    "\n",
    "lr_lasso = Lasso(alpha = 0.1)\n",
    "lr_lasso.fit(X_train, y_train)\n",
    "\n",
    "plt.scatter(range(var_num),lr_lasso.coef_, label = 'LASSO', color = 'blue')\n",
    "plt.hlines(y=0, xmin=0, xmax=var_num-1, color='red', linestyle ='--')\n",
    "plt.xlim(0,7)\n",
    "plt.legend(loc = 'upper right')\n",
    "plt.xlabel('Coefficients index')\n",
    "plt.ylabel('Coefficients')\n",
    "plt.tight_layout()\n",
    "plt.show()\n",
    "\n",
    "epsilon = 1e-4\n",
    "idxs = np.where(abs(lr_lasso.coef_) > epsilon)\n",
    "print('Selected attributes: {}'.format(X_train.columns.values[idxs]))"
   ]
  },
  {
   "cell_type": "markdown",
   "metadata": {},
   "source": [
    "#### The following code will retrain the model selected in 2. with only top 3 features selected in 3."
   ]
  },
  {
   "cell_type": "code",
   "execution_count": 71,
   "metadata": {},
   "outputs": [
    {
     "name": "stdout",
     "output_type": "stream",
     "text": [
      "Training MSE: 0.23192052098031746\n"
     ]
    }
   ],
   "source": [
    "selected_features = X_train.columns.values[idxs]\n",
    "\n",
    "X_train_selected = X_train[selected_features]\n",
    "X_test_selected = X_test[selected_features]\n",
    "\n",
    "sc_x = StandardScaler()\n",
    "X_train_std = sc_x.fit_transform(X_train_selected)\n",
    "X_test_std = sc_x.fit_transform(X_test_selected)\n",
    "poly = PolynomialFeatures(degree = 3)\n",
    "X_train_poly = poly.fit_transform(X_train_std)\n",
    "X_test_poly = poly.fit_transform(X_test_std)\n",
    "\n",
    "\n",
    "las = Lasso(alpha = 0.001)\n",
    "las.fit(X_train_poly, y_train)\n",
    "# print(X_train_poly.shape)\n",
    "\n",
    "y_train_pred = las.predict(X_train_poly)\n",
    "y_test_pred = las.predict(X_test_poly)\n",
    "\n",
    "print('Training MSE:', mean_squared_error(y_train, y_train_pred))"
   ]
  },
  {
   "cell_type": "markdown",
   "metadata": {},
   "source": [
    "#### The output training MSE is 0.2319 (compared to 0.2306 for all 8 features)"
   ]
  },
  {
   "cell_type": "code",
   "execution_count": 75,
   "metadata": {},
   "outputs": [],
   "source": [
    "import csv\n",
    "\n",
    "for i in range(len(y_test_pred)): # covert to 0 or 1\n",
    "    if y_test_pred[i] > 0.5:\n",
    "        y_test_pred[i] = 1\n",
    "    else:\n",
    "        y_test_pred[i] = 0\n",
    "\n",
    "with open('./output/Lab05_109021115_y_pred.csv', 'w', newline='', encoding=\"utf-8\") as csvfile:\n",
    "    writer = csv.writer(csvfile)\n",
    "    writer.writerow(['FGM'])\n",
    "    for i in range(len(y_test_pred)):\n",
    "        writer.writerow([int(y_test_pred[i])])"
   ]
  },
  {
   "cell_type": "markdown",
   "metadata": {},
   "source": [
    "#### Report\n",
    "In the begining, I saw that it's a classification problem, so I tried many classifiers as model, such as LogisticRegression, LogisticRegressionCV, SGDClassifier, etc. Then I found that this will make MSE too large since it always generate output either 0 or 1 (or nearly). Accordingly, I changed to the regression model -- Lasso, which has obviously lower MSE, helping me plot the graph with clearer outcome that I expected (The fact that over-high degree causes overfitting).\n",
    "And since Lasso generates floating FGM(output) between 0 and 1, so in the end, I manually changed each testcase's output FGM to 1 if its origin value is > 0.5; and change to 0, otherwise."
   ]
  }
 ],
 "metadata": {
  "kernelspec": {
   "display_name": "dataset2",
   "language": "python",
   "name": "python3"
  },
  "language_info": {
   "codemirror_mode": {
    "name": "ipython",
    "version": 3
   },
   "file_extension": ".py",
   "mimetype": "text/x-python",
   "name": "python",
   "nbconvert_exporter": "python",
   "pygments_lexer": "ipython3",
   "version": "3.12.4"
  }
 },
 "nbformat": 4,
 "nbformat_minor": 2
}
